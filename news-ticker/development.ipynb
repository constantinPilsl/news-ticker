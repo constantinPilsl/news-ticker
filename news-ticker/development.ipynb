{
 "cells": [
  {
   "cell_type": "code",
   "execution_count": null,
   "metadata": {},
   "outputs": [],
   "source": []
  },
  {
   "cell_type": "markdown",
   "metadata": {},
   "source": [
    "---\n",
    "# Tagesschau API\n"
   ]
  },
  {
   "cell_type": "code",
   "execution_count": 2,
   "metadata": {},
   "outputs": [],
   "source": [
    "import requests\n"
   ]
  },
  {
   "cell_type": "code",
   "execution_count": 1,
   "metadata": {},
   "outputs": [],
   "source": [
    "# Endpoints\n",
    "url = \"https://www.tagesschau.de/api2\"\n",
    "\n",
    "endpoints = {\n",
    "    \"homepage\": \"/homepage\",\n",
    "    \"news\": \"/news\",\n",
    "    \"newsfeed\": \"/newsfeed-101~_date-{date}.json\",  # yymmdd format\n",
    "}\n",
    "\n",
    "\n",
    "# \"enums\"\n",
    "ressorts_and_topics = [\n",
    "    \"inland\",\n",
    "    \"ausland\",\n",
    "    \"wirtschaft\",\n",
    "    \"sport\",\n",
    "    \"video\",\n",
    "    \"investigativ\",\n",
    "    \"faktenfinder\",\n",
    "]\n",
    "\n",
    "regions = [1, 2, 3, 4, 5, 6, 7, 8, 9, 10, 11, 12, 13, 14, 15, 16]\n",
    "\n",
    "region_mapping = {\n",
    "    1: \"Baden-Württemberg\",\n",
    "    2: \"Bayern\",\n",
    "    3: \"Berlin\",\n",
    "    4: \"Brandenburg\",\n",
    "    5: \"Bremen\",\n",
    "    6: \"Hamburg\",\n",
    "    7: \"Hessen\",\n",
    "    8: \"Mecklenburg-Vorpommern\",\n",
    "    9: \"Niedersachsen\",\n",
    "    10: \"Nordrhein-Westfalen\",\n",
    "    11: \"Rheinland-Pfalz\",\n",
    "    12: \"Saarland\",\n",
    "    13: \"Sachsen\",\n",
    "    14: \"Sachsen-Anhalt\",\n",
    "    15: \"Schleswig-Holstein\",\n",
    "    16: \"Thüringen\",\n",
    "}\n",
    "\n",
    "types = [\"story\", \"webview\", \"video\"]\n",
    "\n",
    "# Blacklists\n",
    "blacklist_url = [\"liveblog\"]\n",
    "blacklist_type = [\"video\", \"webview\"]\n"
   ]
  },
  {
   "attachments": {},
   "cell_type": "markdown",
   "metadata": {},
   "source": [
    "---\n",
    "## Tagesschau API Client\n"
   ]
  },
  {
   "cell_type": "code",
   "execution_count": 7,
   "metadata": {},
   "outputs": [],
   "source": [
    "def create_session():\n",
    "    s = requests.Session()\n",
    "    s.headers.update({\n",
    "        \"Content-Type\": \"application/json\"\n",
    "    })\n",
    "\n",
    "    return s\n",
    "\n",
    "\n",
    "def main():\n",
    "    sess = create_session()\n",
    "    resp = sess.get(url + endpoints[\"news\"])\n",
    "    print(resp.headers)\n"
   ]
  },
  {
   "cell_type": "code",
   "execution_count": 12,
   "metadata": {},
   "outputs": [
    {
     "name": "stdout",
     "output_type": "stream",
     "text": [
      "{'Content-Type': 'application/json;charset=UTF-8', 'Vary': 'Accept-Encoding', 'Content-Encoding': 'gzip', 'Cache-Control': 'max-age=181', 'Date': 'Tue, 10 Jan 2023 11:13:03 GMT', 'Transfer-Encoding': 'chunked', 'Connection': 'keep-alive, Transfer-Encoding', 'Access-Control-Allow-Origin': '*'}\n"
     ]
    }
   ],
   "source": [
    "main()\n"
   ]
  },
  {
   "cell_type": "code",
   "execution_count": null,
   "metadata": {},
   "outputs": [],
   "source": []
  },
  {
   "cell_type": "markdown",
   "metadata": {},
   "source": [
    "---\n",
    "# Endpoint:  newsfeed\n"
   ]
  },
  {
   "cell_type": "code",
   "execution_count": 3,
   "metadata": {},
   "outputs": [],
   "source": [
    "response_newsfeed = requests.get(f\"{url}{endpoints['newsfeed'].format(date='221106')}\")\n",
    "\n",
    "if response_newsfeed.status_code == 200:\n",
    "    parsed_response_newsfeed = response_newsfeed.json()\n",
    "else:\n",
    "    print(response_newsfeed.status_code)\n",
    "    print(response_newsfeed.text)\n"
   ]
  },
  {
   "cell_type": "code",
   "execution_count": 4,
   "metadata": {},
   "outputs": [
    {
     "data": {
      "text/plain": [
       "dict_keys(['news', 'regional', 'newStoriesCountLink', 'type', 'nextPage'])"
      ]
     },
     "execution_count": 4,
     "metadata": {},
     "output_type": "execute_result"
    }
   ],
   "source": [
    "parsed_response_newsfeed.keys()"
   ]
  },
  {
   "cell_type": "code",
   "execution_count": 22,
   "metadata": {},
   "outputs": [
    {
     "data": {
      "text/plain": [
       "160"
      ]
     },
     "execution_count": 22,
     "metadata": {},
     "output_type": "execute_result"
    }
   ],
   "source": [
    "len(parsed_response_newsfeed[\"news\"])\n"
   ]
  },
  {
   "cell_type": "code",
   "execution_count": 6,
   "metadata": {},
   "outputs": [
    {
     "data": {
      "text/plain": [
       "['sophoraId',\n",
       " 'externalId',\n",
       " 'title',\n",
       " 'teaserImage',\n",
       " 'date',\n",
       " 'tracking',\n",
       " 'tags',\n",
       " 'updateCheckUrl',\n",
       " 'regionId',\n",
       " 'details',\n",
       " 'detailsweb',\n",
       " 'shareURL',\n",
       " 'topline',\n",
       " 'firstSentence',\n",
       " 'geotags',\n",
       " 'ressort',\n",
       " 'type']"
      ]
     },
     "execution_count": 6,
     "metadata": {},
     "output_type": "execute_result"
    }
   ],
   "source": [
    "list(parsed_response_newsfeed[\"news\"][0].keys())\n"
   ]
  },
  {
   "cell_type": "code",
   "execution_count": 7,
   "metadata": {},
   "outputs": [],
   "source": [
    "all_details_links_from_newsfeed = [news[\"details\"] for news in parsed_response_newsfeed[\"news\"] if news.get(\"details\")]\n"
   ]
  },
  {
   "cell_type": "code",
   "execution_count": null,
   "metadata": {},
   "outputs": [],
   "source": []
  },
  {
   "cell_type": "markdown",
   "metadata": {},
   "source": [
    "---\n",
    "# Endpoint: news\n"
   ]
  },
  {
   "cell_type": "code",
   "execution_count": 13,
   "metadata": {},
   "outputs": [],
   "source": [
    "response_news = requests.get(f\"{url}{endpoints['news']}\")\n",
    "\n",
    "if response_news.status_code == 200:\n",
    "    parsed_response_news = response_news.json()\n",
    "else:\n",
    "    print(response_news.status_code)\n",
    "    print(response_news.text)\n"
   ]
  },
  {
   "cell_type": "code",
   "execution_count": 60,
   "metadata": {},
   "outputs": [
    {
     "name": "stdout",
     "output_type": "stream",
     "text": [
      "[None]\n"
     ]
    }
   ],
   "source": [
    "bar = []\n",
    "foo = None\n",
    "\n",
    "if foo is None:\n",
    "    bar.append(None)\n",
    "\n",
    "print(bar)\n"
   ]
  },
  {
   "cell_type": "code",
   "execution_count": 18,
   "metadata": {},
   "outputs": [
    {
     "data": {
      "text/plain": [
       "''"
      ]
     },
     "execution_count": 18,
     "metadata": {},
     "output_type": "execute_result"
    }
   ],
   "source": [
    "parsed_response_news[.keys()]\n"
   ]
  },
  {
   "cell_type": "code",
   "execution_count": null,
   "metadata": {},
   "outputs": [],
   "source": []
  },
  {
   "cell_type": "code",
   "execution_count": 79,
   "metadata": {},
   "outputs": [],
   "source": [
    "parsed_news = parse_news_all(parsed_response_news)\n"
   ]
  },
  {
   "cell_type": "code",
   "execution_count": 82,
   "metadata": {},
   "outputs": [],
   "source": [
    "parsed_news = list(parsed_news)\n"
   ]
  },
  {
   "cell_type": "code",
   "execution_count": 167,
   "metadata": {},
   "outputs": [
    {
     "data": {
      "text/plain": [
       "News(title='So sollen Ausländer künftig den deutschen Pass schneller erhalten ', sub_title='Einbürgerung schon nach fünf Jahren statt nach acht - so sieht es ein Gesetzentwurf des Bundesinnenministeriums vor.', tags=['brandenburg', 'berlin'], text=None, url='https://www.tagesschau.de/ardimport/regional/brandenburg/rbb-story-115031.html')"
      ]
     },
     "execution_count": 167,
     "metadata": {},
     "output_type": "execute_result"
    }
   ],
   "source": [
    "parsed_news[0]\n"
   ]
  },
  {
   "cell_type": "code",
   "execution_count": 166,
   "metadata": {},
   "outputs": [
    {
     "data": {
      "text/plain": [
       "True"
      ]
     },
     "execution_count": 166,
     "metadata": {},
     "output_type": "execute_result"
    }
   ],
   "source": [
    "def is_keywords_in_news(\n",
    "    news: News,\n",
    "    keywords: list[str],\n",
    "    filters: dict[Literal[\"title\", \"sub_title\", \"tags\", \"text\"], bool] = {\n",
    "        \"title\": True,\n",
    "        \"sub_title\": True,\n",
    "        \"tags\": True,\n",
    "        \"text\": False,\n",
    "    },\n",
    ") -> bool:\n",
    "    \"\"\"Takes instance of News obje\"\"\"\n",
    "\n",
    "    def unify_filter_object(\n",
    "        filter_object: Union[list, str, None]\n",
    "    ) -> Union[list[str], None]:\n",
    "        \"\"\"Transforms input into list of lowercase strings.\"\"\"\n",
    "\n",
    "        if type(filter_object) is None:\n",
    "            unified_filter_object = None\n",
    "        elif type(filter_object) == str:\n",
    "            # TODO:  Implement as generator\n",
    "            # https://stackoverflow.com/questions/3862010/is-there-a-generator-version-of-string-split-in-python\n",
    "            unified_filter_object = filter_object.lower().split()\n",
    "        elif type(filter_object) == list:\n",
    "            # TODO:  Use generator instead\n",
    "            # unified_filter_object = (i.lower() for i in filter_object)\n",
    "            unified_filter_object = [i.lower() for i in filter_object]\n",
    "        else:\n",
    "            raise TypeError\n",
    "\n",
    "        return unified_filter_object\n",
    "\n",
    "    def is_keywords_in_filter_object(\n",
    "        keywords: list[str],\n",
    "        filter_object: Union[list[str]],\n",
    "    ) -> bool:\n",
    "        # Alternative version that returns keyword matches\n",
    "        # [word for word in filter_object if any(keyword in word for keyword in keywords)] or False\n",
    "        return True in (\n",
    "            True\n",
    "            for word in filter_object\n",
    "            if any(keyword in word for keyword in keywords)\n",
    "        )\n",
    "\n",
    "    news = news.dict()\n",
    "    filters = [k for k, v in filters.items() if v]\n",
    "\n",
    "    filter_objects = (unify_filter_object(news[key]) for key in filters)\n",
    "\n",
    "    # TODO:  Implement as map or as filter function\n",
    "    return True in (\n",
    "        is_keywords_in_filter_object(keywords, filter_object)\n",
    "        for filter_object in filter_objects\n",
    "    )\n",
    "\n",
    "\n",
    "# Unittests\n",
    "keywords = [\n",
    "    \"pass\",\n",
    "    # \"einbürgerung\",\n",
    "    \"rheinmetall\",\n",
    "]\n",
    "\n",
    "\n",
    "filters = {\n",
    "    \"title\": True,\n",
    "    \"sub_title\": True,\n",
    "    \"tags\": True,\n",
    "    \"text\": False,\n",
    "}\n",
    "\n",
    "\n",
    "News(\n",
    "    title=\"So sollen Ausländer künftig den deutschen Pass schneller erhalten \",\n",
    "    sub_title=\"Einbürgerung schon nach fünf Jahren statt nach acht - so sieht es ein Gesetzentwurf des Bundesinnenministeriums vor.\",\n",
    "    tags=[\"brandenburg\", \"berlin\"],\n",
    "    text=None,\n",
    "    url=\"https://www.tagesschau.de/ardimport/regional/brandenburg/rbb-story-115031.html\",\n",
    ")\n",
    "\n",
    "\n",
    "is_keywords_in_news(parsed_news[0], keywords, filters)\n"
   ]
  },
  {
   "cell_type": "code",
   "execution_count": 174,
   "metadata": {},
   "outputs": [],
   "source": [
    "keywords = [\n",
    "    \"pass\",\n",
    "    \"einbürgerung\",\n",
    "    \"rheinmetall\",\n",
    "    \"ukraine\",\n",
    "]\n",
    "\n",
    "\n",
    "filters = {\n",
    "    \"title\": True,\n",
    "    \"sub_title\": True,\n",
    "    \"tags\": True,\n",
    "    \"text\": False,\n",
    "}\n",
    "\n",
    "parsed_news = [i for i in parsed_news if i]\n",
    "\n",
    "relevant_news = [news for news in parsed_news if is_keywords_in_news(news, keywords, filters)]\n"
   ]
  },
  {
   "cell_type": "code",
   "execution_count": 175,
   "metadata": {},
   "outputs": [
    {
     "data": {
      "text/plain": [
       "[News(title='So sollen Ausländer künftig den deutschen Pass schneller erhalten ', sub_title='Einbürgerung schon nach fünf Jahren statt nach acht - so sieht es ein Gesetzentwurf des Bundesinnenministeriums vor.', tags=['brandenburg', 'berlin'], text=None, url='https://www.tagesschau.de/ardimport/regional/brandenburg/rbb-story-115031.html'),\n",
       " News(title='++ Russland meldet Eroberung von Soledar ++', sub_title='Alle aktuellen Entwicklungen zum Krieg gegen die Ukraine in unserem Liveblog.', tags=['liveblog', 'ukraine'], text=None, url='https://www.tagesschau.de/newsticker/liveblog-ukraine-mittwoch-205.html'),\n",
       " News(title='Hilfe für die Menschen in der Ukraine', sub_title='Wenn Sie für die Menschen in der Ukraine und Geflüchtete aus der Ukraine spenden wollen, finden Sie hier Hilfsorganisationen und Bankverbindungen.', tags=['solidarität', 'ukraine', 'hilfe'], text=None, url='https://www.tagesschau.de/spendenkonten/spendenkonten-133.html'),\n",
       " News(title='+++ Update: Baggerfahrer wohl schwer verletzt +++ Geldautomat in Bad Nauheim aufgebrochen +++ Raser gleich zweimal auf A3 erwischt +++', sub_title='Jetzt live: Was in der Nacht passiert ist, was heute wichtig wird – und alles, was Hessen bewegt.', tags=['hessen'], text=None, url='https://www.tagesschau.de/ardimport/regional/hessen/hr-hessenschau-story-47975.html'),\n",
       " News(title='Festnahme nach Lkw-Havarie +++ CDU ringt um Führung +++ Pollenalarm! +++', sub_title='Was ist in der Nacht in Rheinland-Pfalz passiert?', tags=['rheinland-pfalz'], text=None, url='https://www.tagesschau.de/ardimport/regional/rheinlandpfalz/swr-rp-story-35263.html'),\n",
       " News(title='Greift Belarus stärker in den Krieg ein?', sub_title='Belarus spielt für Russland eine wichtige Rolle im Ukraine-Krieg.', tags=['ukraine', 'belarus'], text=None, url='https://www.tagesschau.de/ausland/belarus-ukraine-krieg-101.html')]"
      ]
     },
     "execution_count": 175,
     "metadata": {},
     "output_type": "execute_result"
    }
   ],
   "source": [
    "relevant_news\n"
   ]
  },
  {
   "cell_type": "code",
   "execution_count": null,
   "metadata": {},
   "outputs": [],
   "source": []
  },
  {
   "cell_type": "code",
   "execution_count": null,
   "metadata": {},
   "outputs": [],
   "source": []
  },
  {
   "cell_type": "code",
   "execution_count": null,
   "metadata": {},
   "outputs": [],
   "source": []
  },
  {
   "cell_type": "code",
   "execution_count": null,
   "metadata": {},
   "outputs": [],
   "source": []
  },
  {
   "cell_type": "markdown",
   "metadata": {},
   "source": [
    "---\n",
    "# Get individual news article from news details\n"
   ]
  },
  {
   "cell_type": "code",
   "execution_count": 11,
   "metadata": {},
   "outputs": [],
   "source": [
    "whitelist_type = [\"headline\", \"text\"]\n"
   ]
  },
  {
   "cell_type": "code",
   "execution_count": 12,
   "metadata": {},
   "outputs": [],
   "source": [
    "response_news_article = requests.get(parsed_response_news[\"news\"][0][\"details\"])\n",
    "\n",
    "if response_news_article.status_code == 200:\n",
    "    parsed_response_news_article = response_news_article.json()\n",
    "else:\n",
    "    print(response_news_article.status_code)\n",
    "    print(response_news_article.text)\n"
   ]
  },
  {
   "cell_type": "code",
   "execution_count": 13,
   "metadata": {},
   "outputs": [
    {
     "data": {
      "text/plain": [
       "['sophoraId',\n",
       " 'externalId',\n",
       " 'title',\n",
       " 'teaserImage',\n",
       " 'content',\n",
       " 'date',\n",
       " 'tracking',\n",
       " 'tags',\n",
       " 'updateCheckUrl',\n",
       " 'regionId',\n",
       " 'regionIds',\n",
       " 'images',\n",
       " 'details',\n",
       " 'detailsweb',\n",
       " 'shareURL',\n",
       " 'topline',\n",
       " 'firstSentence',\n",
       " 'geotags',\n",
       " 'brandingImage',\n",
       " 'type',\n",
       " 'breakingNews']"
      ]
     },
     "execution_count": 13,
     "metadata": {},
     "output_type": "execute_result"
    }
   ],
   "source": [
    "list(parsed_response_news_article.keys())\n"
   ]
  },
  {
   "cell_type": "code",
   "execution_count": 14,
   "metadata": {},
   "outputs": [
    {
     "data": {
      "text/plain": [
       "'Medien: Disney zahlt Schnäppchenpreis für \"Global Dream\"'"
      ]
     },
     "execution_count": 14,
     "metadata": {},
     "output_type": "execute_result"
    }
   ],
   "source": [
    "parsed_response_news_article[\"title\"]\n"
   ]
  },
  {
   "cell_type": "code",
   "execution_count": 15,
   "metadata": {},
   "outputs": [
    {
     "name": "stdout",
     "output_type": "stream",
     "text": [
      "<strong>Der Disney-Konzern hat das auf den insolventen MV-Werften gebaute Kreuzfahrtschiff \"Global Dream\" offenbar für den Schnäppchenpreis von 40 Millionen Euro bekommen. Das berichten die Magazine \"Capital\" und \"stern\". Das Land Mecklenburg-Vorpommern könnte auf einem dreistelligen Millionenschaden sitzen bleiben.</strong>\n",
      "\n",
      "Ursprünglich war das mehr als 340 Meter lange Kreuzfahrtschiff laut dem Bericht von \"Capital\" und \"stern\" auf einen Preis von rund 1,8 Milliarden Euro taxiert worden - wenn es fertiggestellt wäre. Nach jüngsten Angaben des MV-Werften-Insolvenzverwalters Christoph Morgen ist die in der Werfthalle in Wismar liegende \"Global Dream\" zu rund 60 Prozent fertiggestellt. Den Angaben zufolge werde Disney, das eine eigene Kreuzfahrtsparte im Portfolio hat, das Schiff ohne Gewährleistungsansprüche übernehmen und es auf eigenes Risiko und auf eigene Kosten fertig- und umbauen. Disney hatte das Schiff Mitte November gekauft, über den Kaufpreis war Stillschweigen vereinbart worden. Auch jetzt wollte sich die Insolvenzverwaltung auf NDR Nachfrage mit dem Hinweis auf vertraglich vereinbarte Verschwiegenheit nicht zum Verkaufsprozess äußern. \n",
      "\n",
      "<ul><li><a href=\"https://www.tagesschau.de/api2/ardimport/regional/mecklenburgvorpommern/ndr-mecklenburg-vorpommern-story-29553.json\" type=\"intern\">MV-Werften vor Millionenhilfe: Zulieferer warnten Landesregierung</a></li></ul>\n",
      "\n",
      "<h2>Eine Milliarde Euro zusätzliche Investitionen</h2>\n",
      "\n",
      "Wie es weiter hieß, soll der Umbau zunächst in Wismar erfolgen. Wenn der Marineschiffbau-Konzern TKMS die Wismarer Werft Anfang 2025 übernimmt, solle der Fertigbau in Regie der Papenburger Meyer-Werft stattfinden, die die Wismarer Werft vorübergehend übernimmt. Disney dürfte für den Umbau noch einmal knapp eine Milliarde Euro investieren, heißt es in der Mitteilung von \"Capital\" und \"stern\".\n",
      "\n",
      "<h2>\"Nennenswerter dreistelliger Millionenbetrag\" als Schaden für das Land?</h2>\n",
      "\n",
      "Mit dem günstigen Verkauf könnte auch ein Ausfall der Bürgschaften näher rücken. \"Der mögliche Landesschaden liegt in einem nennenswerten dreistelligen Millionenbetrag\", hieß es am Dienstag aus dem Wirtschaftsministerium in Schwerin. Es sei jedoch noch nicht klar, wie die übrigen Kreditsicherheiten bewertet werden, dies könne die Summe noch verringern. Wirtschaftsminister Reinhard Meyer (SPD) hatte bestehende Risiken bereits bei der Bekanntgabe des Verkaufs eingeräumt.\n",
      "\n",
      "<h2>Viel Steuerzahlergeld in Schiff und Werft </h2>\n",
      "\n",
      "Der Steuerzahler hat Millionen in das Schiff und in die MV-Werften gesteckt. Allein das Land Mecklenburg-Vorpommern hatte versucht, den Werftenverbund mit 301 Millionen Euro zu retten. Der Bund gab 193 Millionen Euro aus dem Wirtschaftsstabilisierungsfonds. Hinzu kamen 107 Millionen aus Brückenfinanzierungen und einer stillen Beteiligung. Bislang wurden von den MV-Werften keinerlei Rückzahlungen geleistet. Zuletzt war bekannt geworden, dass die Transfergesellschaft für rund 900 Mitarbeiter der Werften bis Ende Januar - also um zwei Monate - verlängert wird. Auf den MV-Werften mit Standorten in Wismar, Rostock und Stralsund waren zu Hochzeiten rund 3.000 Mitarbeiter beschäftigt.\n",
      "\n",
      "<ul><li><a href=\"https://www.tagesschau.de/api2/ardimport/regional/mecklenburgvorpommern/ndr-mecklenburg-vorpommern-story-29539.json\" type=\"intern\">Disney kauft \"Global Dream\" - Transfergesellschaft verlängert</a></li><li><a href=\"https://www.tagesschau.de/api2/ardimport/regional/mecklenburgvorpommern/ndr-mecklenburg-vorpommern-story-29653.json\" type=\"intern\">MV-Werften: Transfergesellschaft wird um zwei Monate verlängert</a></li><li><a href=\"https://www.ndr.de/nachrichten/mecklenburg-vorpommern/Warnemuende-17500-Tonnen-Stahl-der-frueheren-Global-2-werden-zerlegt,werften496.html\" type=\"extern\">Warnemünde: 17.500 Tonnen Stahl der früheren \"Global 2\" werden zerlegt</a></li></ul>\n",
      "\n",
      "<strong>Dieses Thema im Programm:</strong><br />NDR 1 Radio MV | Nachrichten aus Mecklenburg-Vorpommern | 29.11.2022 | 19:00 Uhr\n"
     ]
    }
   ],
   "source": [
    "print(\"\\n\\n\".join([i[\"value\"] for i in parsed_response_news_article[\"content\"] if i[\"type\"] in whitelist_type]))\n"
   ]
  },
  {
   "cell_type": "code",
   "execution_count": null,
   "metadata": {},
   "outputs": [],
   "source": []
  },
  {
   "cell_type": "markdown",
   "metadata": {},
   "source": [
    "---\n",
    "# Application\n"
   ]
  },
  {
   "cell_type": "code",
   "execution_count": 189,
   "metadata": {},
   "outputs": [],
   "source": [
    "from datetime import datetime\n",
    "import logging\n",
    "from typing import Literal, Generator, Union, Iterable\n",
    "\n",
    "import requests\n",
    "from pydantic import BaseModel, Field\n"
   ]
  },
  {
   "cell_type": "code",
   "execution_count": 20,
   "metadata": {},
   "outputs": [
    {
     "data": {
      "text/plain": [
       "'\\nTODO:\\n\\nCONSIDER TO HAVE A MORE GENERIC NEWS BASE CLASS\\n\\nTHIS CLASS COULD HAVE BASIC PROPERTIES LIKE (title, tags, text, link)\\nWHICH WOULD ENABLE TO PASS THEM GENERICALLY TO THE get_relevant_news() FUNCTION\\n    AND TO PASS FILTER LEVELS IN ADDITION,  i.e. filter_level({title: True, tags: True, text: False})\\n'"
      ]
     },
     "execution_count": 20,
     "metadata": {},
     "output_type": "execute_result"
    }
   ],
   "source": [
    "class DynamicConfig(BaseModel):\n",
    "    keywords: list\n",
    "\n",
    "    def __init__(self, **data):\n",
    "        data[\"keywords\"] = [keyword.lower() for keyword in data[\"keywords\"]]\n",
    "        super().__init__(**data)\n",
    "\n",
    "\n",
    "class News(BaseModel):\n",
    "    title: str\n",
    "    sub_title: Union[str, None] = None\n",
    "    tags: Union[list[str], None] = None\n",
    "    text: Union[str, None] = None\n",
    "    url: str = Field(description=\"Web url to html page\")\n",
    "    timestamp: datetime = datetime.now()\n",
    "\n",
    "\n",
    "# Tagesschau specific\n",
    "class ArticleInfo(BaseModel):\n",
    "    id: str  # sophoraId\n",
    "    title: str\n",
    "    tags: list[str]\n",
    "    link_json: str  # details\n",
    "    link_web: str  # detailsweb\n",
    "    timestamp: str  # date\n",
    "\n",
    "\n",
    "\"\"\"\n",
    "TODO:\n",
    "\n",
    "CONSIDER TO HAVE A MORE GENERIC NEWS BASE CLASS\n",
    "\n",
    "THIS CLASS COULD HAVE BASIC PROPERTIES LIKE (title, tags, text, link)\n",
    "WHICH WOULD ENABLE TO PASS THEM GENERICALLY TO THE get_relevant_news() FUNCTION\n",
    "    AND TO PASS FILTER LEVELS IN ADDITION,  i.e. filter_level({title: True, tags: True, text: False})\n",
    "\"\"\"\n"
   ]
  },
  {
   "cell_type": "code",
   "execution_count": 25,
   "metadata": {},
   "outputs": [],
   "source": [
    "logging.basicConfig(\n",
    "    format=\"%(levelname)s - %(asctime)s -\\t%(message)s\",\n",
    "    level=logging.DEBUG,\n",
    "    datefmt=\"%Y-%m-%d %I:%M:%S\",\n",
    ")\n"
   ]
  },
  {
   "cell_type": "code",
   "execution_count": 197,
   "metadata": {},
   "outputs": [],
   "source": [
    "# Application config\n",
    "\n",
    "# Endpoints\n",
    "url = \"https://www.tagesschau.de\"\n",
    "\n",
    "endpoint = {\n",
    "    \"homepage\": \"/api2/homepage\",\n",
    "    \"news\": \"/api2/news\",\n",
    "    \"newsfeed\": \"/api2/newsfeed-101~_date-{date}.json\",  # yymmdd format\n",
    "}\n",
    "\n",
    "\n",
    "# \"enums\"\n",
    "ressorts_and_topics = [\n",
    "    \"inland\",\n",
    "    \"ausland\",\n",
    "    \"wirtschaft\",\n",
    "    \"sport\",\n",
    "    \"video\",\n",
    "    \"investigativ\",\n",
    "    \"faktenfinder\",\n",
    "]\n",
    "\n",
    "regions = [1, 2, 3, 4, 5, 6, 7, 8, 9, 10, 11, 12, 13, 14, 15, 16]\n",
    "\n",
    "region_mapping = {\n",
    "    1: \"Baden-Württemberg\",\n",
    "    2: \"Bayern\",\n",
    "    3: \"Berlin\",\n",
    "    4: \"Brandenburg\",\n",
    "    5: \"Bremen\",\n",
    "    6: \"Hamburg\",\n",
    "    7: \"Hessen\",\n",
    "    8: \"Mecklenburg-Vorpommern\",\n",
    "    9: \"Niedersachsen\",\n",
    "    10: \"Nordrhein-Westfalen\",\n",
    "    11: \"Rheinland-Pfalz\",\n",
    "    12: \"Saarland\",\n",
    "    13: \"Sachsen\",\n",
    "    14: \"Sachsen-Anhalt\",\n",
    "    15: \"Schleswig-Holstein\",\n",
    "    16: \"Thüringen\",\n",
    "}\n",
    "\n",
    "types = [\"story\", \"webview\", \"video\"]\n",
    "\n",
    "# Blacklists\n",
    "blacklist_url = [\"liveblog\"]\n",
    "blacklist_type = [\"video\", \"webview\"]\n"
   ]
  },
  {
   "cell_type": "code",
   "execution_count": 203,
   "metadata": {},
   "outputs": [],
   "source": [
    "# API client\n",
    "def create_session():\n",
    "    s = requests.Session()\n",
    "    s.headers.update({\"Content-Type\": \"application/json\"})\n",
    "\n",
    "    return s\n",
    "\n",
    "\n",
    "# Data Source Gateway\n",
    "def get_news(url: str, endpoint: str, session: requests.Session) -> dict:\n",
    "    logging.info(\"tagesschau API - GET request to news endpoint\")\n",
    "    response = session.get(url + endpoint)\n",
    "\n",
    "    if response.status_code == 200:\n",
    "        logging.info(\"Received status code 200\")\n",
    "        return response.json()\n",
    "    else:\n",
    "        raise Exception(\n",
    "            f\"\"\"Error\n",
    "        Expected status code:  200\n",
    "        Got status code:  {response.status_code}\n",
    "        Response text:\n",
    "        {response.text}\n",
    "        \"\"\"\n",
    "        )\n",
    "\n",
    "\n",
    "# Service Level\n",
    "\n",
    "## Tagesschau Service - Parse data\n",
    "def parse_news(news_raw: dict) -> News:\n",
    "    \"\"\"Parse dict of individual news article.\"\"\"\n",
    "\n",
    "    def parse_tags(tags: list[dict]) -> list[Union[str, None]]:\n",
    "        \"\"\"Unpacks list of {\"tag\": \"value\"} pairs and returns list\n",
    "            of unqiue tag values in lowercase.\n",
    "\n",
    "        Example:\n",
    "            Input\n",
    "                [{'tag': 'Berlin'}, {'tag': 'Brandenburg'}]\n",
    "\n",
    "            Returns\n",
    "                ['Berlin', 'Brandenburg']\n",
    "        \"\"\"\n",
    "        return list(set([i[\"tag\"].lower() for i in tags]))\n",
    "\n",
    "    try:\n",
    "        news = News(\n",
    "            title=news_raw[\"title\"],\n",
    "            sub_title=news_raw[\"firstSentence\"],\n",
    "            tags=parse_tags(news_raw[\"tags\"]),\n",
    "            url=news_raw[\"detailsweb\"],\n",
    "            timestamp=datetime.fromisoformat(news_raw[\"date\"]),\n",
    "        )\n",
    "    # TODO:  Replace with proper exception and exception handling\n",
    "    except KeyError as error:\n",
    "        logging.info(f\"{error}\\tarticle.get('type'):  {news_raw.get('type')}\")\n",
    "        logging.info(f\"\\tarticle.get('shareURL'):  {news_raw.get('shareURL')}\")\n",
    "        news = News(\n",
    "            title=str(error),\n",
    "            url=news_raw[\"shareURL\"],\n",
    "        )\n",
    "\n",
    "    return news\n",
    "\n",
    "\n",
    "def parse_news_all(many_news_raw: dict) -> Iterable[News]:\n",
    "    return map(parse_news, many_news_raw[\"news\"])\n"
   ]
  },
  {
   "cell_type": "code",
   "execution_count": 193,
   "metadata": {},
   "outputs": [],
   "source": [
    "## Generic Service - Filter\n",
    "def is_keywords_in_news(\n",
    "    news: News,\n",
    "    keywords: list[str],\n",
    "    filters: dict[Literal[\"title\", \"sub_title\", \"tags\", \"text\"], bool] = {\n",
    "        \"title\": True,\n",
    "        \"sub_title\": True,\n",
    "        \"tags\": True,\n",
    "        \"text\": False,\n",
    "    },\n",
    ") -> bool:\n",
    "    \"\"\"Takes instance of News obje\"\"\"\n",
    "\n",
    "    def unify_filter_object(\n",
    "        filter_object: Union[list, str, None]\n",
    "    ) -> Union[list[str], None]:\n",
    "        \"\"\"Transforms input into list of lowercase strings.\"\"\"\n",
    "\n",
    "        if type(filter_object) is None:\n",
    "            unified_filter_object = None\n",
    "        elif type(filter_object) == str:\n",
    "            # TODO:  Implement as generator\n",
    "            # https://stackoverflow.com/questions/3862010/is-there-a-generator-version-of-string-split-in-python\n",
    "            unified_filter_object = filter_object.lower().split()\n",
    "        elif type(filter_object) == list:\n",
    "            # TODO:  Use generator instead\n",
    "            # unified_filter_object = (i.lower() for i in filter_object)\n",
    "            unified_filter_object = [i.lower() for i in filter_object]\n",
    "        else:\n",
    "            raise TypeError\n",
    "\n",
    "        return unified_filter_object\n",
    "\n",
    "    def is_keywords_in_filter_object(\n",
    "        keywords: list[str],\n",
    "        filter_object: Union[list[str]],\n",
    "    ) -> bool:\n",
    "        # Alternative version that returns keyword matches\n",
    "        # [word for word in filter_object if any(keyword in word for keyword in keywords)] or False\n",
    "        return True in (\n",
    "            True\n",
    "            for word in filter_object\n",
    "            if any(keyword in word for keyword in keywords)\n",
    "        )\n",
    "\n",
    "    news_dict = news.dict()\n",
    "    filter_keys = [k for k, v in filters.items() if v]\n",
    "\n",
    "    filter_objects = (unify_filter_object(news_dict[key]) for key in filter_keys)\n",
    "\n",
    "    # TODO:  Implement as map or as filter function\n",
    "    return True in (\n",
    "        is_keywords_in_filter_object(keywords, filter_object)\n",
    "        for filter_object in filter_objects\n",
    "    )\n",
    "\n",
    "\n",
    "def get_relevant_news(\n",
    "    many_news: Generator[News, None, None],\n",
    "    keywords: list,\n",
    "    filters: dict[Literal[\"title\", \"sub_title\", \"tags\", \"text\"], bool] = {\n",
    "        \"title\": True,\n",
    "        \"sub_title\": True,\n",
    "        \"tags\": True,\n",
    "        \"text\": False,\n",
    "    },\n",
    ") -> Generator[News, None, None]:\n",
    "    return (news for news in parsed_news if is_keywords_in_news(news, keywords, filters))\n"
   ]
  },
  {
   "cell_type": "code",
   "execution_count": 194,
   "metadata": {},
   "outputs": [],
   "source": [
    "# Dynamic inputs\n",
    "\n",
    "keywords = [\n",
    "    \"pass\",\n",
    "    \"einbürgerung\",\n",
    "    \"rheinmetall\",\n",
    "    \"ukraine\",\n",
    "]\n",
    "\n",
    "\n",
    "filters = {\n",
    "    \"title\": True,\n",
    "    \"sub_title\": True,\n",
    "    \"tags\": True,\n",
    "    \"text\": False,\n",
    "}\n"
   ]
  },
  {
   "cell_type": "code",
   "execution_count": 195,
   "metadata": {},
   "outputs": [],
   "source": [
    "session = create_session()\n"
   ]
  },
  {
   "cell_type": "code",
   "execution_count": 204,
   "metadata": {},
   "outputs": [],
   "source": [
    "# Data source gateway and data source specific parsing\n",
    "many_news_raw = get_news(\n",
    "    url=url,\n",
    "    endpoint=endpoint[\"news\"],\n",
    "    session=session\n",
    ")\n"
   ]
  },
  {
   "cell_type": "code",
   "execution_count": 205,
   "metadata": {},
   "outputs": [],
   "source": [
    "many_news = parse_news_all(\n",
    "    many_news_raw\n",
    ")\n"
   ]
  },
  {
   "cell_type": "code",
   "execution_count": 207,
   "metadata": {},
   "outputs": [],
   "source": [
    "relevant_news = get_relevant_news(\n",
    "    many_news,\n",
    "    keywords,\n",
    "    filters,\n",
    ")\n"
   ]
  },
  {
   "cell_type": "code",
   "execution_count": 208,
   "metadata": {},
   "outputs": [
    {
     "data": {
      "text/plain": [
       "[News(title='So sollen Ausländer künftig den deutschen Pass schneller erhalten ', sub_title='Einbürgerung schon nach fünf Jahren statt nach acht - so sieht es ein Gesetzentwurf des Bundesinnenministeriums vor.', tags=['brandenburg', 'berlin'], text=None, url='https://www.tagesschau.de/ardimport/regional/brandenburg/rbb-story-115031.html'),\n",
       " News(title='++ Russland meldet Eroberung von Soledar ++', sub_title='Alle aktuellen Entwicklungen zum Krieg gegen die Ukraine in unserem Liveblog.', tags=['liveblog', 'ukraine'], text=None, url='https://www.tagesschau.de/newsticker/liveblog-ukraine-mittwoch-205.html'),\n",
       " News(title='Hilfe für die Menschen in der Ukraine', sub_title='Wenn Sie für die Menschen in der Ukraine und Geflüchtete aus der Ukraine spenden wollen, finden Sie hier Hilfsorganisationen und Bankverbindungen.', tags=['solidarität', 'ukraine', 'hilfe'], text=None, url='https://www.tagesschau.de/spendenkonten/spendenkonten-133.html'),\n",
       " News(title='+++ Update: Baggerfahrer wohl schwer verletzt +++ Geldautomat in Bad Nauheim aufgebrochen +++ Raser gleich zweimal auf A3 erwischt +++', sub_title='Jetzt live: Was in der Nacht passiert ist, was heute wichtig wird – und alles, was Hessen bewegt.', tags=['hessen'], text=None, url='https://www.tagesschau.de/ardimport/regional/hessen/hr-hessenschau-story-47975.html'),\n",
       " News(title='Festnahme nach Lkw-Havarie +++ CDU ringt um Führung +++ Pollenalarm! +++', sub_title='Was ist in der Nacht in Rheinland-Pfalz passiert?', tags=['rheinland-pfalz'], text=None, url='https://www.tagesschau.de/ardimport/regional/rheinlandpfalz/swr-rp-story-35263.html'),\n",
       " News(title='Greift Belarus stärker in den Krieg ein?', sub_title='Belarus spielt für Russland eine wichtige Rolle im Ukraine-Krieg.', tags=['ukraine', 'belarus'], text=None, url='https://www.tagesschau.de/ausland/belarus-ukraine-krieg-101.html')]"
      ]
     },
     "execution_count": 208,
     "metadata": {},
     "output_type": "execute_result"
    }
   ],
   "source": [
    "list(relevant_news)"
   ]
  },
  {
   "cell_type": "code",
   "execution_count": null,
   "metadata": {},
   "outputs": [],
   "source": []
  },
  {
   "cell_type": "code",
   "execution_count": null,
   "metadata": {},
   "outputs": [],
   "source": []
  },
  {
   "cell_type": "code",
   "execution_count": null,
   "metadata": {},
   "outputs": [],
   "source": []
  },
  {
   "cell_type": "code",
   "execution_count": null,
   "metadata": {},
   "outputs": [],
   "source": []
  },
  {
   "cell_type": "code",
   "execution_count": null,
   "metadata": {},
   "outputs": [],
   "source": []
  },
  {
   "cell_type": "markdown",
   "metadata": {},
   "source": [
    "---\n",
    "# ntfy\n"
   ]
  },
  {
   "cell_type": "code",
   "execution_count": 76,
   "metadata": {},
   "outputs": [],
   "source": [
    "ntfy_url = \"https://ntfy.sh\"\n",
    "\n",
    "topic = \"news-ticker\"\n",
    "\n",
    "def post_news_alert(\n",
    "    title: str,\n",
    "    data: str,\n",
    "    link_web: str,\n",
    "    topic: str=topic,\n",
    "    ntfy_url: str=ntfy_url,\n",
    ") -> None:\n",
    "    logging.info(\"Post news alert\")\n",
    "    requests.post(f\"{ntfy_url}/{topic}\",\n",
    "        data=data,\n",
    "        headers={\n",
    "            \"Title\": title,\n",
    "            \"Click\": link_web,\n",
    "            # \"Priority\": \"urgent\",\n",
    "            # \"Tags\": \"warning,skull\"\n",
    "        })\n",
    "        \n",
    "    logging.info(\"News alert posted\")\n"
   ]
  },
  {
   "cell_type": "code",
   "execution_count": 81,
   "metadata": {},
   "outputs": [
    {
     "name": "stderr",
     "output_type": "stream",
     "text": [
      "INFO - 2022-11-29 10:12:46:\tPost news alert\n",
      "INFO - 2022-11-29 10:12:46:\tNews alert posted\n",
      "INFO - 2022-11-29 10:12:46:\tPost news alert\n",
      "INFO - 2022-11-29 10:12:47:\tNews alert posted\n",
      "INFO - 2022-11-29 10:12:47:\tPost news alert\n",
      "INFO - 2022-11-29 10:12:47:\tNews alert posted\n",
      "INFO - 2022-11-29 10:12:47:\tPost news alert\n",
      "INFO - 2022-11-29 10:12:48:\tNews alert posted\n",
      "INFO - 2022-11-29 10:12:48:\tPost news alert\n",
      "INFO - 2022-11-29 10:12:48:\tNews alert posted\n",
      "INFO - 2022-11-29 10:12:48:\tPost news alert\n",
      "INFO - 2022-11-29 10:12:49:\tNews alert posted\n",
      "INFO - 2022-11-29 10:12:49:\tPost news alert\n",
      "INFO - 2022-11-29 10:12:49:\tNews alert posted\n",
      "INFO - 2022-11-29 10:12:49:\tPost news alert\n",
      "INFO - 2022-11-29 10:12:50:\tNews alert posted\n",
      "INFO - 2022-11-29 10:12:50:\tPost news alert\n",
      "INFO - 2022-11-29 10:12:50:\tNews alert posted\n",
      "INFO - 2022-11-29 10:12:50:\tPost news alert\n",
      "INFO - 2022-11-29 10:12:50:\tNews alert posted\n",
      "INFO - 2022-11-29 10:12:50:\tPost news alert\n",
      "INFO - 2022-11-29 10:12:51:\tNews alert posted\n",
      "INFO - 2022-11-29 10:12:51:\tPost news alert\n",
      "INFO - 2022-11-29 10:12:51:\tNews alert posted\n",
      "INFO - 2022-11-29 10:12:51:\tPost news alert\n",
      "INFO - 2022-11-29 10:12:52:\tNews alert posted\n",
      "INFO - 2022-11-29 10:12:52:\tPost news alert\n",
      "INFO - 2022-11-29 10:12:52:\tNews alert posted\n",
      "INFO - 2022-11-29 10:12:52:\tPost news alert\n",
      "INFO - 2022-11-29 10:12:53:\tNews alert posted\n",
      "INFO - 2022-11-29 10:12:53:\tPost news alert\n",
      "INFO - 2022-11-29 10:12:53:\tNews alert posted\n",
      "INFO - 2022-11-29 10:12:53:\tPost news alert\n",
      "INFO - 2022-11-29 10:12:54:\tNews alert posted\n",
      "INFO - 2022-11-29 10:12:54:\tPost news alert\n",
      "INFO - 2022-11-29 10:12:54:\tNews alert posted\n",
      "INFO - 2022-11-29 10:12:54:\tPost news alert\n",
      "INFO - 2022-11-29 10:12:55:\tNews alert posted\n",
      "INFO - 2022-11-29 10:12:55:\tPost news alert\n",
      "INFO - 2022-11-29 10:12:55:\tNews alert posted\n",
      "INFO - 2022-11-29 10:12:55:\tPost news alert\n",
      "INFO - 2022-11-29 10:12:56:\tNews alert posted\n",
      "INFO - 2022-11-29 10:12:56:\tPost news alert\n",
      "INFO - 2022-11-29 10:12:56:\tNews alert posted\n",
      "INFO - 2022-11-29 10:12:56:\tPost news alert\n",
      "INFO - 2022-11-29 10:12:57:\tNews alert posted\n",
      "INFO - 2022-11-29 10:12:57:\tPost news alert\n",
      "INFO - 2022-11-29 10:12:57:\tNews alert posted\n",
      "INFO - 2022-11-29 10:12:57:\tPost news alert\n",
      "INFO - 2022-11-29 10:12:57:\tNews alert posted\n",
      "INFO - 2022-11-29 10:12:57:\tPost news alert\n",
      "INFO - 2022-11-29 10:12:58:\tNews alert posted\n",
      "INFO - 2022-11-29 10:12:58:\tPost news alert\n",
      "INFO - 2022-11-29 10:12:58:\tNews alert posted\n",
      "INFO - 2022-11-29 10:12:58:\tPost news alert\n",
      "INFO - 2022-11-29 10:12:59:\tNews alert posted\n",
      "INFO - 2022-11-29 10:12:59:\tPost news alert\n",
      "INFO - 2022-11-29 10:12:59:\tNews alert posted\n",
      "INFO - 2022-11-29 10:12:59:\tPost news alert\n",
      "INFO - 2022-11-29 10:13:00:\tNews alert posted\n"
     ]
    }
   ],
   "source": [
    "from time import sleep\n",
    "\n",
    "for article in relevant_articles:\n",
    "    post_news_alert(\n",
    "        title=\"Source:  tagesschau.de\",\n",
    "        data=article.title,\n",
    "        link_web=article.link_web,\n",
    "    )\n"
   ]
  },
  {
   "cell_type": "code",
   "execution_count": null,
   "metadata": {},
   "outputs": [],
   "source": []
  },
  {
   "cell_type": "code",
   "execution_count": null,
   "metadata": {},
   "outputs": [],
   "source": []
  }
 ],
 "metadata": {
  "kernelspec": {
   "display_name": "Python 3",
   "language": "python",
   "name": "python3"
  },
  "language_info": {
   "codemirror_mode": {
    "name": "ipython",
    "version": 3
   },
   "file_extension": ".py",
   "mimetype": "text/x-python",
   "name": "python",
   "nbconvert_exporter": "python",
   "pygments_lexer": "ipython3",
   "version": "3.9.5"
  },
  "orig_nbformat": 4,
  "vscode": {
   "interpreter": {
    "hash": "aee8b7b246df8f9039afb4144a1f6fd8d2ca17a180786b69acc140d282b71a49"
   }
  }
 },
 "nbformat": 4,
 "nbformat_minor": 2
}
