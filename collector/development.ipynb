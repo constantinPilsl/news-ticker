{
 "cells": [
  {
   "cell_type": "code",
   "execution_count": 49,
   "metadata": {},
   "outputs": [],
   "source": [
    "import logging\n",
    "\n",
    "logging.basicConfig(\n",
    "    format=\"%(levelname)s:  %(asctime)s\\t-\\t%(message)s\",\n",
    "    level=logging.DEBUG,\n",
    "    datefmt=\"%Y-%m-%d %I:%M:%S\",\n",
    ")\n"
   ]
  },
  {
   "cell_type": "code",
   "execution_count": null,
   "metadata": {},
   "outputs": [],
   "source": []
  },
  {
   "cell_type": "code",
   "execution_count": 3,
   "metadata": {},
   "outputs": [],
   "source": [
    "from collector.data_source_gateways.tagesschau.api.wrapper import get_news\n"
   ]
  },
  {
   "cell_type": "code",
   "execution_count": 4,
   "metadata": {},
   "outputs": [],
   "source": [
    "import json\n",
    "\n",
    "from collector.services.is_keywords_in_news import unify_filter_target, is_keywords_in_filter_target, is_keywords_in_news\n"
   ]
  },
  {
   "cell_type": "code",
   "execution_count": 10,
   "metadata": {},
   "outputs": [],
   "source": [
    "parameters_raw = json.loads(\"\"\"{\n",
    "\"news\": {\n",
    "    \"source\": \"tagesschau\",\n",
    "    \"title\": \"Streit um Balkon-Photovoltaikanlage in Konstanz\",\n",
    "    \"sub_title\": \"Michael Breuninger aus Konstanz hat sich eine Mini-Solaranlage angeschafft.\",\n",
    "    \"tags\": [\n",
    "        \"baden-w\\u00fcrttemberg\"\n",
    "    ],\n",
    "    \"text\": null,\n",
    "    \"url\": \"https://www.tagesschau.de/ardimport/regional/badenwuerttemberg/swr-bw-story-47153.html\",\n",
    "    \"timestamp\": \"2023-01-26T19:27:00+01:00\"\n",
    "},\n",
    "\"keywords\": \"ukraine\",\n",
    "\"filters\": {\n",
    "    \"title\": true,\n",
    "    \"sub_title\": true,\n",
    "    \"tags\": true,\n",
    "    \"text\": false\n",
    "}\n",
    "}\"\"\")\n"
   ]
  },
  {
   "cell_type": "code",
   "execution_count": null,
   "metadata": {},
   "outputs": [],
   "source": []
  },
  {
   "cell_type": "code",
   "execution_count": null,
   "metadata": {},
   "outputs": [],
   "source": []
  },
  {
   "cell_type": "code",
   "execution_count": null,
   "metadata": {},
   "outputs": [],
   "source": []
  }
 ],
 "metadata": {
  "kernelspec": {
   "display_name": "collector-9zT_frAs",
   "language": "python",
   "name": "python3"
  },
  "language_info": {
   "codemirror_mode": {
    "name": "ipython",
    "version": 3
   },
   "file_extension": ".py",
   "mimetype": "text/x-python",
   "name": "python",
   "nbconvert_exporter": "python",
   "pygments_lexer": "ipython3",
   "version": "3.9.16"
  },
  "orig_nbformat": 4,
  "vscode": {
   "interpreter": {
    "hash": "46ae70aedd9e2b365b465a4209c3759ff9201151b51d6132cb959ddf25e6cd2c"
   }
  }
 },
 "nbformat": 4,
 "nbformat_minor": 2
}
