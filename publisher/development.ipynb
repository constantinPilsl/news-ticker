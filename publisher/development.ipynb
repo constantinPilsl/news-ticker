{
 "cells": [
  {
   "cell_type": "code",
   "execution_count": 1,
   "metadata": {},
   "outputs": [],
   "source": [
    "from publisher.logging.logger import logger, session_id\n"
   ]
  },
  {
   "cell_type": "code",
   "execution_count": 2,
   "metadata": {},
   "outputs": [],
   "source": [
    "from time import sleep\n",
    "\n",
    "from config import Config\n",
    "\n",
    "import publisher.data_source_gateways.collector.collector as collector_gateway\n",
    "from publisher.publisher_service import publish_news\n",
    "\n",
    "config = Config()\n"
   ]
  },
  {
   "cell_type": "code",
   "execution_count": null,
   "metadata": {},
   "outputs": [],
   "source": []
  },
  {
   "cell_type": "code",
   "execution_count": 7,
   "metadata": {},
   "outputs": [],
   "source": [
    "keywords_response = collector_gateway.get_keywords(\n",
    "    sources=[\"tagesschau\"],\n",
    "    url=config.collector[\"url\"],\n",
    "    endpoint=config.collector[\"endpoints\"][\"keywords\"],\n",
    "    session_id=config.session_id\n",
    ")\n"
   ]
  },
  {
   "cell_type": "code",
   "execution_count": null,
   "metadata": {},
   "outputs": [],
   "source": []
  },
  {
   "cell_type": "code",
   "execution_count": 22,
   "metadata": {},
   "outputs": [
    {
     "name": "stdout",
     "output_type": "stream",
     "text": [
      "Meta Rediscovers the Cubicle\n",
      "On Section 230 and the Dream of a More Human Internet\n",
      "Pliny the Younger on Happy and Honorable Seclusion\n",
      "On Email and Horses\n",
      "Guillermo del Toro’s Inspiration Machine\n"
     ]
    }
   ],
   "source": [
    "import feedparser\n",
    "\n",
    "rss_feed_url = 'https://www.calnewport.com/blog/feed/'\n",
    "\n",
    "# Parse the RSS feed\n",
    "feed = feedparser.parse(rss_feed_url)\n",
    "\n",
    "# Print the titles of the latest 5 blog posts\n",
    "for post in feed.entries[:5]:\n",
    "    print(post.title)\n"
   ]
  },
  {
   "cell_type": "code",
   "execution_count": 23,
   "metadata": {},
   "outputs": [
    {
     "data": {
      "text/plain": [
       "{'author',\n",
       " 'author_detail',\n",
       " 'authors',\n",
       " 'comments',\n",
       " 'content',\n",
       " 'guidislink',\n",
       " 'id',\n",
       " 'link',\n",
       " 'links',\n",
       " 'published',\n",
       " 'published_parsed',\n",
       " 'slash_comments',\n",
       " 'summary',\n",
       " 'summary_detail',\n",
       " 'tags',\n",
       " 'title',\n",
       " 'title_detail',\n",
       " 'wfw_commentrss'}"
      ]
     },
     "execution_count": 23,
     "metadata": {},
     "output_type": "execute_result"
    }
   ],
   "source": [
    "some_set = set()\n",
    "\n",
    "for i in (i.keys() for i in feed.entries):\n",
    "    some_set.update(i)\n",
    "\n",
    "some_set\n"
   ]
  },
  {
   "cell_type": "code",
   "execution_count": 5,
   "metadata": {},
   "outputs": [
    {
     "data": {
      "text/plain": [
       "{'title': 'Meta Rediscovers the Cubicle',\n",
       " 'title_detail': {'type': 'text/plain',\n",
       "  'language': None,\n",
       "  'base': 'https://calnewport.com/blog/feed/',\n",
       "  'value': 'Meta Rediscovers the Cubicle'},\n",
       " 'links': [{'rel': 'alternate',\n",
       "   'type': 'text/html',\n",
       "   'href': 'https://calnewport.com/meta-rediscovers-the-cubicle/'}],\n",
       " 'link': 'https://calnewport.com/meta-rediscovers-the-cubicle/',\n",
       " 'comments': 'https://calnewport.com/meta-rediscovers-the-cubicle/#comments',\n",
       " 'authors': [{'name': 'Study Hacks'}],\n",
       " 'author': 'Study Hacks',\n",
       " 'author_detail': {'name': 'Study Hacks'},\n",
       " 'published': 'Thu, 09 Mar 2023 21:54:35 +0000',\n",
       " 'published_parsed': time.struct_time(tm_year=2023, tm_mon=3, tm_mday=9, tm_hour=21, tm_min=54, tm_sec=35, tm_wday=3, tm_yday=68, tm_isdst=0),\n",
       " 'tags': [{'term': 'Uncategorized', 'scheme': None, 'label': None}],\n",
       " 'id': 'https://calnewport.com/?p=15270',\n",
       " 'guidislink': False,\n",
       " 'summary': '<p>Back in 2016, I reported on a rumor that was circulating about employee dissatisfaction at Meta (then, Facebook). Developers, it seemed, were unhappy with the ... <a class=\"read-more\" href=\"https://calnewport.com/meta-rediscovers-the-cubicle/\" title=\"Meta Rediscovers the Cubicle\">Read more</a></p>\\n<p>The post <a href=\"https://calnewport.com/meta-rediscovers-the-cubicle/\" rel=\"nofollow\">Meta Rediscovers the Cubicle</a> appeared first on <a href=\"https://calnewport.com\" rel=\"nofollow\">Cal Newport</a>.</p>',\n",
       " 'summary_detail': {'type': 'text/html',\n",
       "  'language': None,\n",
       "  'base': 'https://calnewport.com/blog/feed/',\n",
       "  'value': '<p>Back in 2016, I reported on a rumor that was circulating about employee dissatisfaction at Meta (then, Facebook). Developers, it seemed, were unhappy with the ... <a class=\"read-more\" href=\"https://calnewport.com/meta-rediscovers-the-cubicle/\" title=\"Meta Rediscovers the Cubicle\">Read more</a></p>\\n<p>The post <a href=\"https://calnewport.com/meta-rediscovers-the-cubicle/\" rel=\"nofollow\">Meta Rediscovers the Cubicle</a> appeared first on <a href=\"https://calnewport.com\" rel=\"nofollow\">Cal Newport</a>.</p>'},\n",
       " 'content': [{'type': 'text/html',\n",
       "   'language': None,\n",
       "   'base': 'https://calnewport.com/blog/feed/',\n",
       "   'value': '<figure class=\"wp-block-image size-full\"><img alt=\"\" class=\"wp-image-15271\" height=\"363\" src=\"https://calnewport.com/wp-content/uploads/2023/03/meta-cubicle2-640px.jpg\" width=\"640\" /></figure>\\n\\n\\n\\n<p>Back in 2016, <a href=\"https://calnewport.com/is-facebooks-massive-open-office-scaring-away-developers/\">I reported on a rumor</a> that was circulating about employee dissatisfaction at Meta (then, Facebook). Developers, it seemed, were unhappy with the company&#8217;s trendy, but also unbearably noisy and distracting, <em>8-acre </em>open office floor plan. </p>\\n\\n\\n\\n<p>&#8220;Developers need to concentrate,&#8221; explained an amused Joel Spolsky at a conference that year, before going on to add that Facebook was paying a 40 &#8211; 50% premium for talent because people didn&#8217;t want to work under those conditions. A commentator on my essay pointed to a podcast episode where Facebook insiders claim that the open office was never more than 30% occupied. &#8220;Apparently, the majority of people that work there make sure that they are away from their desk when they need to get work done,&#8221; he explained.</p>\\n\\n\\n\\n<span id=\"more-15270\"></span>\\n\\n\\n\\n<p><a href=\"https://www.wsj.com/articles/inside-metas-push-to-solve-the-noisy-office-ba43042\">As reported by the <em>Wall Street Journal</em> last month</a>, it looks like Meta is finally ready to do something about this self-inflicted problem. After hiring a fancy design firm and working through multiple ideas and prototypes they landed on an innovative solution: cubicles.</p>\\n\\n\\n\\n<p>(To be fair, the company takes pains to argue that their solution is <em>not</em> cubicles, because, well, the walls are curved, and they are made out of fancier, sound-absorbing materials. Sure. Okay&#8230;)</p>\\n\\n\\n\\n<p>I, for one, am pleased by this news.  The open office boom is right up there with the spread of Slack as representing the peak of early 21st century distraction culture &#8212; a period in which the knowledge sector completely disregarded any realities about how human brains actually go about the difficult task of creating value through cogitation. The fact that Meta is closing the book on its ill-fated open office experiment is perhaps a glimmer of hope that we&#8217;re moving toward a deeper future</p>\\n\\n\\n\\n<p>#####</p>\\n\\n\\n\\n<p><em>In other news&#8230;</em></p>\\n\\n\\n\\n<p>On Monday, Scott Young and I are re-opening our popular online course, <strong>Life of Focus</strong>,<strong> </strong>which combines ideas from <em>Deep Work</em>, <em>Digital Minimalism</em>, and Scott&#8217;s excellent book, <em>Ultralearning</em>. For those who are interested, registration will be open Monday until Friday at <a href=\"http://life-of-focus-course.com\">the course site</a>.</p>\\n\\n\\n\\n<p><strong><em>A quick word of warning:</em> </strong>I am going to send three short emails about the course throughout the week, so be ready for that. (Each such message will also includes a link at the bottom you can click to opt-out of any future communication about the course. )</p>\\n<p>The post <a href=\"https://calnewport.com/meta-rediscovers-the-cubicle/\" rel=\"nofollow\">Meta Rediscovers the Cubicle</a> appeared first on <a href=\"https://calnewport.com\" rel=\"nofollow\">Cal Newport</a>.</p>'}],\n",
       " 'wfw_commentrss': 'https://calnewport.com/meta-rediscovers-the-cubicle/feed/',\n",
       " 'slash_comments': '12'}"
      ]
     },
     "execution_count": 5,
     "metadata": {},
     "output_type": "execute_result"
    }
   ],
   "source": [
    "post"
   ]
  },
  {
   "cell_type": "code",
   "execution_count": null,
   "metadata": {},
   "outputs": [],
   "source": []
  },
  {
   "cell_type": "code",
   "execution_count": 15,
   "metadata": {},
   "outputs": [
    {
     "name": "stdout",
     "output_type": "stream",
     "text": [
      "Psychothese: Deutschland als vorsichtiger Versager und planloser Rater\n",
      "https://www.omnisophie.com/psychothese-deutschland-als-vorsichtiger-versager-und-planloser-rater/\n",
      "\n",
      "Hass-Magneten\n",
      "https://www.omnisophie.com/hass-magneten/\n",
      "\n",
      "Handlungs-Chaos auf der Bühne – wie es uns gefällt\n",
      "https://www.omnisophie.com/handlungs-chaos-auf-der-buehne-wie-es-uns-gefaellt/\n",
      "\n",
      "BWLer verwechseln Reserven mit Verschwendung – wir auch\n",
      "https://www.omnisophie.com/bwler-verwechseln-reserven-mit-verschwendung-wir-auch/\n",
      "\n",
      "Wahr ist nur, was ohne Interesse richtig aussieht\n",
      "https://www.omnisophie.com/wahr-ist-nur-was-ohne-interesse-richtig-aussieht/\n",
      "\n",
      "Wenn Probleme unbemerkt exponentiell wachsen\n",
      "https://www.omnisophie.com/wenn-probleme-unbemerkt-exponentiell-wachsen/\n",
      "\n",
      "Homöophorie – eine Höherentwicklung der Homöopathie\n",
      "https://www.omnisophie.com/homoeophorie-eine-hoeherentwicklung-der-homoeopathie/\n",
      "\n",
      "Der Dreiklang der Wertschwätzung zu einem unkonkreten Wahlprogramm\n",
      "https://www.omnisophie.com/der-dreiklang-der-wertschwaetzung-zu-einem-unkonkreten-wahlprogramm/\n",
      "\n",
      "Exo-Stupide Institutionen\n",
      "https://www.omnisophie.com/exo-stupide-institutionen/\n",
      "\n",
      "DD381: Coronakampf gelingt wie Intervallfasten\n",
      "https://www.omnisophie.com/dd381-coronakampf-gelingt-wie-intervallfasten/\n",
      "\n"
     ]
    }
   ],
   "source": [
    "import feedparser\n",
    "\n",
    "rss_feed_url = 'https://www.omnisophie.com/feed/'\n",
    "\n",
    "# Parse the RSS feed\n",
    "feed = feedparser.parse(rss_feed_url)\n",
    "\n",
    "# Print the titles and links of the latest 10 blog posts\n",
    "for post in feed.entries[:15]:\n",
    "    print(post.title)\n",
    "    print(post.link)\n",
    "    print()\n"
   ]
  },
  {
   "cell_type": "code",
   "execution_count": 21,
   "metadata": {},
   "outputs": [
    {
     "data": {
      "text/plain": [
       "{'author',\n",
       " 'author_detail',\n",
       " 'authors',\n",
       " 'comments',\n",
       " 'content',\n",
       " 'guidislink',\n",
       " 'id',\n",
       " 'link',\n",
       " 'links',\n",
       " 'published',\n",
       " 'published_parsed',\n",
       " 'slash_comments',\n",
       " 'summary',\n",
       " 'summary_detail',\n",
       " 'tags',\n",
       " 'title',\n",
       " 'title_detail',\n",
       " 'wfw_commentrss'}"
      ]
     },
     "execution_count": 21,
     "metadata": {},
     "output_type": "execute_result"
    }
   ],
   "source": [
    "some_set = set()\n",
    "\n",
    "for i in (i.keys() for i in feed.entries):\n",
    "    some_set.update(i)\n",
    "\n",
    "some_set\n"
   ]
  },
  {
   "cell_type": "code",
   "execution_count": null,
   "metadata": {},
   "outputs": [],
   "source": []
  },
  {
   "cell_type": "code",
   "execution_count": 48,
   "metadata": {},
   "outputs": [],
   "source": [
    "news_1 = [i for i in range(50)]\n",
    "news_2 = [i for i in range(50, 100)]\n",
    "news_3 = [i for i in range(100, 150)]\n",
    "\n",
    "news = [\n",
    "    news_1,\n",
    "    news_2,\n",
    "    news_3,\n",
    "]\n",
    "\n",
    "def get_news():\n",
    "    news_response = []\n",
    "\n",
    "    for i in news:\n",
    "        yield news_response.extend(i)\n",
    "\n",
    "    return news_response\n"
   ]
  },
  {
   "cell_type": "code",
   "execution_count": 49,
   "metadata": {},
   "outputs": [],
   "source": [
    "response = get_news()\n"
   ]
  },
  {
   "cell_type": "code",
   "execution_count": 52,
   "metadata": {},
   "outputs": [
    {
     "name": "stdout",
     "output_type": "stream",
     "text": [
      "0\n",
      "1\n",
      "2\n",
      "3\n",
      "4\n",
      "5\n",
      "6\n",
      "7\n",
      "8\n",
      "9\n"
     ]
    }
   ],
   "source": [
    "import itertools\n",
    "\n",
    "all_gen = [(i for i in range(5)), (i for i in range(5, 10))]\n",
    "\n",
    "new_gen = itertools.chain(*all_gen)\n",
    "\n",
    "# Print the values generated by the new generator\n",
    "for value in new_gen:\n",
    "    print(value)\n"
   ]
  },
  {
   "cell_type": "code",
   "execution_count": null,
   "metadata": {},
   "outputs": [],
   "source": []
  },
  {
   "cell_type": "code",
   "execution_count": 54,
   "metadata": {},
   "outputs": [],
   "source": [
    "import requests\n"
   ]
  },
  {
   "cell_type": "code",
   "execution_count": 55,
   "metadata": {},
   "outputs": [],
   "source": [
    "url = \"https://www.tagesschau.de/api2\"\n",
    "endpoint = \"/news\"\n"
   ]
  },
  {
   "cell_type": "code",
   "execution_count": 56,
   "metadata": {},
   "outputs": [],
   "source": [
    "response = requests.get(f\"{url}{endpoint}\")\n"
   ]
  },
  {
   "cell_type": "code",
   "execution_count": 58,
   "metadata": {},
   "outputs": [],
   "source": [
    "json_response = response.json()\n"
   ]
  },
  {
   "cell_type": "code",
   "execution_count": 59,
   "metadata": {},
   "outputs": [
    {
     "data": {
      "text/plain": [
       "{'sophoraId': 'bankenkrise-ansteckungsgefahr-101',\n",
       " 'externalId': 'b2050486-3a96-4b4b-9e44-e22d6e8b25d2',\n",
       " 'title': 'Wie hoch ist die Ansteckungsgefahr?',\n",
       " 'teaserImage': {'title': '',\n",
       "  'copyright': 'picture alliance/dpa',\n",
       "  'alttext': 'Frankfurter Hochhäuser und Bankentürme',\n",
       "  'type': 'image',\n",
       "  'videowebl': {'imageurl': 'https://www.tagesschau.de/multimedia/bilder/frankfurt-315~_v-videowebl.jpg'},\n",
       "  'klein1x1': {'imageurl': 'https://www.tagesschau.de/multimedia/bilder/frankfurt-315~_v-klein1x1.jpg'},\n",
       "  'portraetgrossplus8x9': {'imageurl': 'https://www.tagesschau.de/multimedia/bilder/frankfurt-315~_v-portraetgrossplus8x9.jpg'},\n",
       "  'videoweb1x1l': {'imageurl': 'https://www.tagesschau.de/multimedia/bilder/frankfurt-315~_v-videoweb1x1l.jpg'},\n",
       "  'videowebm': {'imageurl': 'https://www.tagesschau.de/multimedia/bilder/frankfurt-315~_v-videowebm.jpg'},\n",
       "  'videowebs': {'imageurl': 'https://www.tagesschau.de/multimedia/bilder/frankfurt-315~_v-videowebs.jpg'},\n",
       "  'portraetgross8x9': {'imageurl': 'https://www.tagesschau.de/multimedia/bilder/frankfurt-315~_v-portraetgross8x9.jpg'},\n",
       "  'mittelgross1x1': {'imageurl': 'https://www.tagesschau.de/multimedia/bilder/frankfurt-315~_v-mittelgross1x1.jpg'}},\n",
       " 'date': '2023-03-20T17:58:56.534+01:00',\n",
       " 'tracking': [{'sid': 'app.wirtschaft.bankenkrise-ansteckungsgefahr-101',\n",
       "   'src': 'ard-aktuell',\n",
       "   'ctp': 'meldung',\n",
       "   'pdt': '20230320T1758',\n",
       "   'otp': 'meldung',\n",
       "   'cid': 'bankenkrise-ansteckungsgefahr-101',\n",
       "   'pti': 'Bankenkrise_Wie_hoch_ist_die_Ansteckungsgefahr',\n",
       "   'type': 'generic'}],\n",
       " 'tags': [{'tag': 'Bankenkrise'},\n",
       "  {'tag': 'Ansteckungsgefahr'},\n",
       "  {'tag': 'Notenbanken'},\n",
       "  {'tag': 'Anleihemarkt'}],\n",
       " 'updateCheckUrl': 'https://www.tagesschau.de/api2/wirtschaft/bankenkrise-ansteckungsgefahr-101~_lastKnown-C57024639DDB9959A67AD269DD2478F4_view-hasChanged.json',\n",
       " 'regionId': 0,\n",
       " 'details': 'https://www.tagesschau.de/api2/wirtschaft/bankenkrise-ansteckungsgefahr-101.json',\n",
       " 'detailsweb': 'https://www.tagesschau.de/wirtschaft/bankenkrise-ansteckungsgefahr-101.html',\n",
       " 'shareURL': 'https://www.tagesschau.de/wirtschaft/bankenkrise-ansteckungsgefahr-101.html',\n",
       " 'topline': 'Bankenkrise',\n",
       " 'firstSentence': 'Die Sorge bleibt, dass sich die aktuelle Vertrauenskrise im Bankensektor ausweitet.',\n",
       " 'geotags': [{'tag': '(Keine Auswahl)'}],\n",
       " 'ressort': 'wirtschaft',\n",
       " 'type': 'story'}"
      ]
     },
     "execution_count": 59,
     "metadata": {},
     "output_type": "execute_result"
    }
   ],
   "source": [
    "json_response[\"news\"][0]\n"
   ]
  },
  {
   "cell_type": "code",
   "execution_count": null,
   "metadata": {},
   "outputs": [],
   "source": []
  },
  {
   "cell_type": "code",
   "execution_count": null,
   "metadata": {},
   "outputs": [],
   "source": []
  },
  {
   "cell_type": "code",
   "execution_count": 5,
   "metadata": {},
   "outputs": [],
   "source": [
    "from typing import Union\n",
    "\n",
    "from pydantic import BaseModel\n",
    "\n",
    "\n",
    "class TopicMappingHelper(BaseModel):\n",
    "    germany: Union[str, None] = None\n",
    "    world: Union[str, None] = None\n",
    "    business: Union[str, None] = None\n",
    "    sports: Union[str, None] = None\n",
    "    technology: Union[str, None] = None\n",
    "    entertainment: Union[str, None] = None\n",
    "    science: Union[str, None] = None\n",
    "    health: Union[str, None] = None\n",
    "\n",
    "\n",
    "topic_mapping = {\n",
    "    \"germany\": \"inland\",\n",
    "    \"world\": \"ausland\",\n",
    "    \"business\": \"wirtschaft\",\n",
    "    \"sports\": \"sport\",\n",
    "    # \"video\",\n",
    "    # \"investigativ\",\n",
    "    # \"faktenfinder\",\n",
    "    \"technology\": None,\n",
    "    \"entertainment\": None,\n",
    "    \"science\": None,\n",
    "    \"health\": None,\n",
    "}\n"
   ]
  },
  {
   "cell_type": "code",
   "execution_count": 2,
   "metadata": {},
   "outputs": [
    {
     "data": {
      "text/plain": [
       "{'inland': 'Germany',\n",
       " 'ausland': 'World',\n",
       " 'wirtschaft': 'Business',\n",
       " 'sport': 'Sports',\n",
       " None: 'Health'}"
      ]
     },
     "execution_count": 2,
     "metadata": {},
     "output_type": "execute_result"
    }
   ],
   "source": [
    "dict(zip(topic_mapping.values(), topic_mapping.keys()))\n"
   ]
  },
  {
   "cell_type": "code",
   "execution_count": 10,
   "metadata": {},
   "outputs": [],
   "source": [
    "topic_mapping_helper = TopicMapping(\n",
    "    germany=\"inland\",\n",
    "    world=\"ausland\",\n",
    "    business=\"wirtschaft\",\n",
    "    sports=\"sport\",\n",
    ").dict()\n",
    "\n",
    "topic_mapping = dict(zip(topic_mapping_helper.values(), topic_mapping_helper.keys()))\n",
    "del topic_mapping[None]\n"
   ]
  },
  {
   "cell_type": "code",
   "execution_count": 11,
   "metadata": {},
   "outputs": [
    {
     "data": {
      "text/plain": [
       "{'inland': 'germany',\n",
       " 'ausland': 'world',\n",
       " 'wirtschaft': 'business',\n",
       " 'sport': 'sports'}"
      ]
     },
     "execution_count": 11,
     "metadata": {},
     "output_type": "execute_result"
    }
   ],
   "source": [
    "topic_mapping\n"
   ]
  },
  {
   "cell_type": "code",
   "execution_count": null,
   "metadata": {},
   "outputs": [],
   "source": []
  },
  {
   "cell_type": "code",
   "execution_count": null,
   "metadata": {},
   "outputs": [],
   "source": []
  },
  {
   "cell_type": "code",
   "execution_count": null,
   "metadata": {},
   "outputs": [],
   "source": []
  },
  {
   "cell_type": "code",
   "execution_count": null,
   "metadata": {},
   "outputs": [],
   "source": []
  },
  {
   "cell_type": "code",
   "execution_count": null,
   "metadata": {},
   "outputs": [],
   "source": []
  }
 ],
 "metadata": {
  "kernelspec": {
   "display_name": "publisher-q0Z86IYA",
   "language": "python",
   "name": "python3"
  },
  "language_info": {
   "codemirror_mode": {
    "name": "ipython",
    "version": 3
   },
   "file_extension": ".py",
   "mimetype": "text/x-python",
   "name": "python",
   "nbconvert_exporter": "python",
   "pygments_lexer": "ipython3",
   "version": "3.9.16"
  },
  "orig_nbformat": 4,
  "vscode": {
   "interpreter": {
    "hash": "9cb6abae36257dcbd57d6739358c917e36f6dc2fd0a3d6ad71b420687817b978"
   }
  }
 },
 "nbformat": 4,
 "nbformat_minor": 2
}
