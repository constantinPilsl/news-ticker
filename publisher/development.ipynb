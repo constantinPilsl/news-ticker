{
 "cells": [
  {
   "cell_type": "code",
   "execution_count": 6,
   "metadata": {},
   "outputs": [],
   "source": [
    "from publisher.logging.logger import logger\n"
   ]
  },
  {
   "cell_type": "markdown",
   "metadata": {},
   "source": [
    "---\n",
    "# Application\n"
   ]
  },
  {
   "cell_type": "code",
   "execution_count": 8,
   "metadata": {},
   "outputs": [],
   "source": [
    "import requests\n",
    "\n",
    "from publisher.models.news_response import NewsResponse\n",
    "from publisher.models.news import News\n"
   ]
  },
  {
   "cell_type": "code",
   "execution_count": 2,
   "metadata": {},
   "outputs": [],
   "source": [
    "url = \"http://127.0.0.1:8000/v1\"\n",
    "\n",
    "endpoints = {\n",
    "    \"news\": \"/news\",\n",
    "}\n"
   ]
  },
  {
   "cell_type": "code",
   "execution_count": 4,
   "metadata": {},
   "outputs": [],
   "source": [
    "news_response = NewsResponse(**requests.get(\"http://127.0.0.1:8000/news/?sources=tagesschau&keywords=hive\").json())\n"
   ]
  },
  {
   "cell_type": "code",
   "execution_count": 5,
   "metadata": {},
   "outputs": [
    {
     "data": {
      "text/plain": [
       "NewsResponse(metadata=ResponseMetadata(pages=1, page=1, timestamp=datetime.datetime(2023, 1, 26, 21, 13, 56, 317387)), response=[News(source='tagesschau', title='BW-Strafverfolgungsbehörden beteiligt an Schlag gegen Cyber-Kriminelle', sub_title='Internationale Strafverfolgungsbehörden und US-Behörden sind gegen die Ransomware-Gruppe Hive vorgegangen.', tags=['baden-württemberg'], text=None, url='https://www.tagesschau.de/ardimport/regional/badenwuerttemberg/swr-bw-story-47143.html', timestamp=datetime.datetime(2023, 1, 26, 20, 43, tzinfo=datetime.timezone(datetime.timedelta(seconds=3600)))), News(source='tagesschau', title='Hackernetzwerk \"Hive\" zerschlagen', sub_title='Es wird für weltweit mehr als 1500 schwere Cyberangriffe auf Unternehmen verantwortlich gemacht.', tags=['cyberattacke', 'hacker', 'hackernetzwerk', 'cyberangriff', '\"hive\"', 'cyber'], text=None, url='https://www.tagesschau.de/wirtschaft/unternehmen/zerschlagung-hackernetzwerk-hive-101.html', timestamp=datetime.datetime(2023, 1, 26, 19, 17, 42, 233000, tzinfo=datetime.timezone(datetime.timedelta(seconds=3600))))])"
      ]
     },
     "execution_count": 5,
     "metadata": {},
     "output_type": "execute_result"
    }
   ],
   "source": [
    "news_response\n"
   ]
  },
  {
   "cell_type": "code",
   "execution_count": 16,
   "metadata": {},
   "outputs": [],
   "source": [
    "def get_news(\n",
    "    keywords: list[str],\n",
    "    sources: list[str] = [\"tagesschau\"],\n",
    "    url: str = \"http://127.0.0.1:8000\",\n",
    "    endpoint: str = \"/news\",\n",
    ") -> list[News]:\n",
    "\n",
    "    joined_sources = \"&\".join((f\"sources={source}\" for source in sources))\n",
    "    joined_keywords = \"&\".join((f\"keywords={keyword}\" for keyword in keywords))\n",
    "\n",
    "    query_parameters = \"&\".join((joined_sources, joined_keywords))\n",
    "\n",
    "    request_url = f\"{url}{endpoint}/?{query_parameters}\"\n",
    "    print(request_url)\n",
    "\n",
    "    return NewsResponse(**requests.get(request_url).json()).response\n"
   ]
  },
  {
   "cell_type": "code",
   "execution_count": null,
   "metadata": {},
   "outputs": [],
   "source": []
  },
  {
   "cell_type": "markdown",
   "metadata": {},
   "source": [
    "---\n",
    "# ntfy\n"
   ]
  },
  {
   "cell_type": "code",
   "execution_count": 10,
   "metadata": {},
   "outputs": [],
   "source": [
    "ntfy_url = \"https://ntfy.sh\"\n",
    "topic = \"/news-ticker\"\n",
    "\n",
    "\n",
    "def post_news(\n",
    "    news: News,\n",
    "    topic: str=topic,\n",
    "    url: str=ntfy_url,\n",
    ") -> None:\n",
    "    logger.info(\"functionCall:  post_news()\")\n",
    "\n",
    "    request_url = f\"{url}{topic}\"\n",
    "    headers={\n",
    "        \"Title\": news.title,\n",
    "        \"Click\": news.url,\n",
    "        # \"Priority\": \"urgent\",\n",
    "        # \"Tags\": \"warning,skull\"\n",
    "    }\n",
    "    data = news.sub_title\n",
    "\n",
    "    logger.debug(f\"request_url:  {request_url}\")\n",
    "    logger.debug(f\"headers:  {headers}\")\n",
    "    logger.debug(f\"data:  {data}\")\n",
    "\n",
    "    requests.post(\n",
    "        url=request_url,\n",
    "        headers=headers,\n",
    "        data=data\n",
    "    )\n"
   ]
  },
  {
   "cell_type": "code",
   "execution_count": null,
   "metadata": {},
   "outputs": [],
   "source": []
  },
  {
   "cell_type": "code",
   "execution_count": null,
   "metadata": {},
   "outputs": [],
   "source": []
  },
  {
   "cell_type": "code",
   "execution_count": 19,
   "metadata": {},
   "outputs": [
    {
     "name": "stdout",
     "output_type": "stream",
     "text": [
      "http://127.0.0.1:8000/news/?sources=tagesschau&keywords=bnd&keywords=kampfpanzer&keywords=hacker\n"
     ]
    }
   ],
   "source": [
    "from time import sleep\n",
    "\n",
    "keywords = [\n",
    "    \"bnd\",\n",
    "    \"kampfpanzer\",\n",
    "    \"hacker\",\n",
    "]\n",
    "\n",
    "news_response = get_news(keywords)\n",
    "\n",
    "for news in news_response:\n",
    "    sleep(2)\n",
    "    post_news(news)\n"
   ]
  },
  {
   "cell_type": "code",
   "execution_count": null,
   "metadata": {},
   "outputs": [],
   "source": []
  },
  {
   "cell_type": "code",
   "execution_count": null,
   "metadata": {},
   "outputs": [],
   "source": []
  }
 ],
 "metadata": {
  "kernelspec": {
   "display_name": "collector-9zT_frAs",
   "language": "python",
   "name": "python3"
  },
  "language_info": {
   "codemirror_mode": {
    "name": "ipython",
    "version": 3
   },
   "file_extension": ".py",
   "mimetype": "text/x-python",
   "name": "python",
   "nbconvert_exporter": "python",
   "pygments_lexer": "ipython3",
   "version": "3.9.16"
  },
  "orig_nbformat": 4,
  "vscode": {
   "interpreter": {
    "hash": "46ae70aedd9e2b365b465a4209c3759ff9201151b51d6132cb959ddf25e6cd2c"
   }
  }
 },
 "nbformat": 4,
 "nbformat_minor": 2
}
