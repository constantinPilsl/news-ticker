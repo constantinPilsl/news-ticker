{
 "cells": [
  {
   "cell_type": "code",
   "execution_count": null,
   "metadata": {},
   "outputs": [],
   "source": []
  },
  {
   "cell_type": "markdown",
   "metadata": {},
   "source": [
    "---\n",
    "# Application\n"
   ]
  },
  {
   "cell_type": "code",
   "execution_count": 3,
   "metadata": {},
   "outputs": [],
   "source": [
    "import requests\n"
   ]
  },
  {
   "cell_type": "code",
   "execution_count": 4,
   "metadata": {},
   "outputs": [],
   "source": [
    "url = \"http://127.0.0.1:8000/v1\"\n",
    "\n",
    "endpoints = {\n",
    "    \"news\": \"/news/?keywords=ukraine\"\n",
    "}\n"
   ]
  },
  {
   "cell_type": "code",
   "execution_count": 11,
   "metadata": {},
   "outputs": [
    {
     "data": {
      "text/plain": [
       "{'metadata': {'pages': 1,\n",
       "  'page': 1,\n",
       "  'timestamp': '2023-01-13T11:20:05.431948'},\n",
       " 'response': [{'source': 'tagesschau',\n",
       "   'title': 'Hilfe für die Menschen in der Ukraine',\n",
       "   'sub_title': 'Wenn Sie für die Menschen in der Ukraine und Geflüchtete aus der Ukraine spenden wollen, finden Sie hier Hilfsorganisationen und Bankverbindungen.',\n",
       "   'tags': ['hilfe', 'solidarität', 'ukraine'],\n",
       "   'text': None,\n",
       "   'url': 'https://www.tagesschau.de/spendenkonten/spendenkonten-133.html',\n",
       "   'timestamp': '2023-01-13T11:17:43.041000+01:00'},\n",
       "  {'source': 'tagesschau',\n",
       "   'title': '+ Duma-Chef: Eigentum von Kriegsgegnern beschlagnahmen +',\n",
       "   'sub_title': 'Alle aktuellen Entwicklungen zum Krieg gegen die Ukraine in unserem Liveblog.',\n",
       "   'tags': ['liveblog', 'ukraine'],\n",
       "   'text': None,\n",
       "   'url': 'https://www.tagesschau.de/newsticker/liveblog-ukraine-freitag-221.html',\n",
       "   'timestamp': '2023-01-13T11:07:51.548000+01:00'},\n",
       "  {'source': 'tagesschau',\n",
       "   'title': 'Pfiffe für Dahlemann: Dialogversuch mit Demonstranten',\n",
       "   'sub_title': 'Bei dem moderierten Diskurs in Ueckermünde ging es um Inflation, Energiekosten, Russland-Sanktionen und den Ukraine-Krieg.',\n",
       "   'tags': ['mecklenburg-vorpommern'],\n",
       "   'text': None,\n",
       "   'url': 'https://www.tagesschau.de/ardimport/regional/mecklenburgvorpommern/ndr-mecklenburg-vorpommern-story-30269.html',\n",
       "   'timestamp': '2023-01-13T06:06:00+01:00'}]}"
      ]
     },
     "execution_count": 11,
     "metadata": {},
     "output_type": "execute_result"
    }
   ],
   "source": [
    "requests.get(\"http://127.0.0.1:8000/news/?source=tagesschau&keywords=biden&keywords=klimawandel\").json()\n"
   ]
  },
  {
   "cell_type": "code",
   "execution_count": null,
   "metadata": {},
   "outputs": [],
   "source": []
  },
  {
   "cell_type": "code",
   "execution_count": null,
   "metadata": {},
   "outputs": [],
   "source": []
  },
  {
   "cell_type": "markdown",
   "metadata": {},
   "source": [
    "---\n",
    "# ntfy\n"
   ]
  },
  {
   "cell_type": "code",
   "execution_count": 76,
   "metadata": {},
   "outputs": [],
   "source": [
    "ntfy_url = \"https://ntfy.sh\"\n",
    "\n",
    "topic = \"news-ticker\"\n",
    "\n",
    "def post_news_alert(\n",
    "    title: str,\n",
    "    data: str,\n",
    "    link_web: str,\n",
    "    topic: str=topic,\n",
    "    ntfy_url: str=ntfy_url,\n",
    ") -> None:\n",
    "    logging.info(\"Post news alert\")\n",
    "    requests.post(f\"{ntfy_url}/{topic}\",\n",
    "        data=data,\n",
    "        headers={\n",
    "            \"Title\": title,\n",
    "            \"Click\": link_web,\n",
    "            # \"Priority\": \"urgent\",\n",
    "            # \"Tags\": \"warning,skull\"\n",
    "        })\n",
    "        \n",
    "    logging.info(\"News alert posted\")\n"
   ]
  },
  {
   "cell_type": "code",
   "execution_count": 81,
   "metadata": {},
   "outputs": [
    {
     "name": "stderr",
     "output_type": "stream",
     "text": [
      "INFO - 2022-11-29 10:12:46:\tPost news alert\n",
      "INFO - 2022-11-29 10:12:46:\tNews alert posted\n",
      "INFO - 2022-11-29 10:12:46:\tPost news alert\n",
      "INFO - 2022-11-29 10:12:47:\tNews alert posted\n",
      "INFO - 2022-11-29 10:12:47:\tPost news alert\n",
      "INFO - 2022-11-29 10:12:47:\tNews alert posted\n",
      "INFO - 2022-11-29 10:12:47:\tPost news alert\n",
      "INFO - 2022-11-29 10:12:48:\tNews alert posted\n",
      "INFO - 2022-11-29 10:12:48:\tPost news alert\n",
      "INFO - 2022-11-29 10:12:48:\tNews alert posted\n",
      "INFO - 2022-11-29 10:12:48:\tPost news alert\n",
      "INFO - 2022-11-29 10:12:49:\tNews alert posted\n",
      "INFO - 2022-11-29 10:12:49:\tPost news alert\n",
      "INFO - 2022-11-29 10:12:49:\tNews alert posted\n",
      "INFO - 2022-11-29 10:12:49:\tPost news alert\n",
      "INFO - 2022-11-29 10:12:50:\tNews alert posted\n",
      "INFO - 2022-11-29 10:12:50:\tPost news alert\n",
      "INFO - 2022-11-29 10:12:50:\tNews alert posted\n",
      "INFO - 2022-11-29 10:12:50:\tPost news alert\n",
      "INFO - 2022-11-29 10:12:50:\tNews alert posted\n",
      "INFO - 2022-11-29 10:12:50:\tPost news alert\n",
      "INFO - 2022-11-29 10:12:51:\tNews alert posted\n",
      "INFO - 2022-11-29 10:12:51:\tPost news alert\n",
      "INFO - 2022-11-29 10:12:51:\tNews alert posted\n",
      "INFO - 2022-11-29 10:12:51:\tPost news alert\n",
      "INFO - 2022-11-29 10:12:52:\tNews alert posted\n",
      "INFO - 2022-11-29 10:12:52:\tPost news alert\n",
      "INFO - 2022-11-29 10:12:52:\tNews alert posted\n",
      "INFO - 2022-11-29 10:12:52:\tPost news alert\n",
      "INFO - 2022-11-29 10:12:53:\tNews alert posted\n",
      "INFO - 2022-11-29 10:12:53:\tPost news alert\n",
      "INFO - 2022-11-29 10:12:53:\tNews alert posted\n",
      "INFO - 2022-11-29 10:12:53:\tPost news alert\n",
      "INFO - 2022-11-29 10:12:54:\tNews alert posted\n",
      "INFO - 2022-11-29 10:12:54:\tPost news alert\n",
      "INFO - 2022-11-29 10:12:54:\tNews alert posted\n",
      "INFO - 2022-11-29 10:12:54:\tPost news alert\n",
      "INFO - 2022-11-29 10:12:55:\tNews alert posted\n",
      "INFO - 2022-11-29 10:12:55:\tPost news alert\n",
      "INFO - 2022-11-29 10:12:55:\tNews alert posted\n",
      "INFO - 2022-11-29 10:12:55:\tPost news alert\n",
      "INFO - 2022-11-29 10:12:56:\tNews alert posted\n",
      "INFO - 2022-11-29 10:12:56:\tPost news alert\n",
      "INFO - 2022-11-29 10:12:56:\tNews alert posted\n",
      "INFO - 2022-11-29 10:12:56:\tPost news alert\n",
      "INFO - 2022-11-29 10:12:57:\tNews alert posted\n",
      "INFO - 2022-11-29 10:12:57:\tPost news alert\n",
      "INFO - 2022-11-29 10:12:57:\tNews alert posted\n",
      "INFO - 2022-11-29 10:12:57:\tPost news alert\n",
      "INFO - 2022-11-29 10:12:57:\tNews alert posted\n",
      "INFO - 2022-11-29 10:12:57:\tPost news alert\n",
      "INFO - 2022-11-29 10:12:58:\tNews alert posted\n",
      "INFO - 2022-11-29 10:12:58:\tPost news alert\n",
      "INFO - 2022-11-29 10:12:58:\tNews alert posted\n",
      "INFO - 2022-11-29 10:12:58:\tPost news alert\n",
      "INFO - 2022-11-29 10:12:59:\tNews alert posted\n",
      "INFO - 2022-11-29 10:12:59:\tPost news alert\n",
      "INFO - 2022-11-29 10:12:59:\tNews alert posted\n",
      "INFO - 2022-11-29 10:12:59:\tPost news alert\n",
      "INFO - 2022-11-29 10:13:00:\tNews alert posted\n"
     ]
    }
   ],
   "source": [
    "from time import sleep\n",
    "\n",
    "for article in relevant_articles:\n",
    "    post_news_alert(\n",
    "        title=\"Source:  tagesschau.de\",\n",
    "        data=article.title,\n",
    "        link_web=article.link_web,\n",
    "    )\n"
   ]
  },
  {
   "cell_type": "code",
   "execution_count": null,
   "metadata": {},
   "outputs": [],
   "source": []
  },
  {
   "cell_type": "code",
   "execution_count": null,
   "metadata": {},
   "outputs": [],
   "source": []
  }
 ],
 "metadata": {
  "kernelspec": {
   "display_name": "Python 3",
   "language": "python",
   "name": "python3"
  },
  "language_info": {
   "codemirror_mode": {
    "name": "ipython",
    "version": 3
   },
   "file_extension": ".py",
   "mimetype": "text/x-python",
   "name": "python",
   "nbconvert_exporter": "python",
   "pygments_lexer": "ipython3",
   "version": "3.9.5 (default, May  4 2021, 03:36:27) \n[Clang 12.0.0 (clang-1200.0.32.29)]"
  },
  "orig_nbformat": 4,
  "vscode": {
   "interpreter": {
    "hash": "aee8b7b246df8f9039afb4144a1f6fd8d2ca17a180786b69acc140d282b71a49"
   }
  }
 },
 "nbformat": 4,
 "nbformat_minor": 2
}
